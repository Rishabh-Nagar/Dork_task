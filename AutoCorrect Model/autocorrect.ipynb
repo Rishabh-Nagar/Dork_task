{
  "nbformat": 4,
  "nbformat_minor": 0,
  "metadata": {
    "colab": {
      "name": "autocorrect.ipynb",
      "provenance": []
    },
    "kernelspec": {
      "name": "python3",
      "display_name": "Python 3"
    },
    "language_info": {
      "name": "python"
    }
  },
  "cells": [
    {
      "cell_type": "markdown",
      "metadata": {
        "id": "legE-1MclGu-"
      },
      "source": [
        "## AUTOCORRECT MODEL (ADVANCE)"
      ]
    },
    {
      "cell_type": "markdown",
      "metadata": {
        "id": "AqlFjrWvlMVm"
      },
      "source": [
        "Importing the Libraries"
      ]
    },
    {
      "cell_type": "code",
      "metadata": {
        "id": "-0adCRdvPqw_"
      },
      "source": [
        "import re\n",
        "import string\n",
        "import numpy as np\n",
        "import pandas as pd\n",
        "from collections import Counter"
      ],
      "execution_count": 10,
      "outputs": []
    },
    {
      "cell_type": "markdown",
      "metadata": {
        "id": "mOWLwio7lQEF"
      },
      "source": [
        "Importing the Dataset"
      ]
    },
    {
      "cell_type": "markdown",
      "metadata": {
        "id": "oMofTWbSlbMd"
      },
      "source": [
        "Preprocessing our data"
      ]
    },
    {
      "cell_type": "code",
      "metadata": {
        "id": "7aIZtOo_P0ZK"
      },
      "source": [
        "def process_data (file_name): # file_name is the name of our dataset \n",
        "  words = []\n",
        "  with open('auto.txt', 'r') as f:  #opening the dataset\n",
        "    data = f.read()  #reading the dataset \n",
        "  data_lower = data.lower()  #coverting entire datset to Lower case\n",
        "  words = re.findall(r\"\\w+\",data_lower) #splitiing the Lower case string into a list of words\n",
        "  return words"
      ],
      "execution_count": 11,
      "outputs": []
    },
    {
      "cell_type": "markdown",
      "metadata": {
        "id": "79Ys3FcNlU_F"
      },
      "source": [
        "Getting all the Unique words"
      ]
    },
    {
      "cell_type": "code",
      "metadata": {
        "colab": {
          "base_uri": "https://localhost:8080/"
        },
        "id": "h91uCDmDQPMc",
        "outputId": "07c46e6f-de1b-4364-d39f-0a3b71890aa7"
      },
      "source": [
        "word1 = process_data('auto.txt')\n",
        "vocab = set(word1)\n",
        "print(f\"Printing the First ten words in the text :, \\n{word1[0:10]}\")\n",
        "print(f\"There are {len(vocab)} unique words in the vocabulary.\")"
      ],
      "execution_count": 12,
      "outputs": [
        {
          "output_type": "stream",
          "name": "stdout",
          "text": [
            "Printing the First ten words in the text :, \n",
            "['the', 'project', 'gutenberg', 'ebook', 'of', 'moby', 'dick', 'or', 'the', 'whale']\n",
            "There are 17648 unique words in the vocabulary.\n"
          ]
        }
      ]
    },
    {
      "cell_type": "markdown",
      "metadata": {
        "id": "hFZSdZR0lc5W"
      },
      "source": [
        "Count of words"
      ]
    },
    {
      "cell_type": "code",
      "metadata": {
        "id": "Rnf7eSN1QvgM"
      },
      "source": [
        "def get_count(word1):\n",
        "  word_count_dict = {}\n",
        "  word_count_dict = Counter(word1)\n",
        "\n",
        "  return word_count_dict"
      ],
      "execution_count": 13,
      "outputs": []
    },
    {
      "cell_type": "code",
      "metadata": {
        "colab": {
          "base_uri": "https://localhost:8080/"
        },
        "id": "83AhKV3kRKWU",
        "outputId": "dba1ff01-3886-4b27-a09e-21fb846b8d32"
      },
      "source": [
        "word_count_dict = get_count(word1)\n",
        "print(f\"There are {len(word_count_dict)} key value pairs.\")\n",
        "print(f\"The count for the word 'thee' is {word_count_dict.get('thee', 0)}\")"
      ],
      "execution_count": 14,
      "outputs": [
        {
          "output_type": "stream",
          "name": "stdout",
          "text": [
            "There are 17648 key value pairs.\n",
            "The count for the word 'thee' is 204\n"
          ]
        }
      ]
    },
    {
      "cell_type": "markdown",
      "metadata": {
        "id": "5Sa4tg3ylid_"
      },
      "source": [
        "Probability of words"
      ]
    },
    {
      "cell_type": "code",
      "metadata": {
        "id": "MjvjjhMjRiUs"
      },
      "source": [
        "def get_prob(word_count_dict):\n",
        "  prob = {}\n",
        "\n",
        "  total = sum(word_count_dict.values())\n",
        "  for i in word_count_dict:\n",
        "    prob[i] = word_count_dict[i]/total\n",
        "\n",
        "  return prob"
      ],
      "execution_count": 15,
      "outputs": []
    },
    {
      "cell_type": "code",
      "metadata": {
        "colab": {
          "base_uri": "https://localhost:8080/"
        },
        "id": "krLu6qYeRz_U",
        "outputId": "e0e8082c-c5e9-461c-c406-4d9bb0eb8038"
      },
      "source": [
        "probs = get_prob(word_count_dict)\n",
        "print(f\"Length of the Probs is {len(probs)}\")\n",
        "print(f\"P('thee') is {probs['thee']: 4f}\")"
      ],
      "execution_count": 16,
      "outputs": [
        {
          "output_type": "stream",
          "name": "stdout",
          "text": [
            "Length of the Probs is 17648\n",
            "P('thee') is  0.000777\n"
          ]
        }
      ]
    },
    {
      "cell_type": "markdown",
      "metadata": {
        "id": "WUgMpIt-lkmW"
      },
      "source": [
        " String manipulations\n",
        "\n",
        "    - Delete_letter\n",
        "\n",
        "    - Switch_letter\n",
        "\n",
        "    - Replace_letter\n",
        "\n",
        "    - Insert_letter"
      ]
    },
    {
      "cell_type": "markdown",
      "metadata": {
        "id": "yLh4MeK-lnXV"
      },
      "source": [
        "Delete Letter"
      ]
    },
    {
      "cell_type": "code",
      "metadata": {
        "id": "nyiYxaaNSGLM"
      },
      "source": [
        "def delete_letter(word, verbose=False):\n",
        "  delete1 = []\n",
        "  delete1 = [word[0:i] + word[i+1 : len(word)] for i in range(len(word))]\n",
        "\n",
        "  if verbose: print(f\"input words {word}, \\n delete_letter = {delete1}\")\n",
        "\n",
        "  return delete1"
      ],
      "execution_count": 19,
      "outputs": []
    },
    {
      "cell_type": "code",
      "metadata": {
        "colab": {
          "base_uri": "https://localhost:8080/"
        },
        "id": "rhAhDgPqTFN8",
        "outputId": "345174c6-ae68-4b3b-d2c5-d326e7524df7"
      },
      "source": [
        "delete_word1 = delete_letter(word=\"cans\", verbose=True)"
      ],
      "execution_count": 20,
      "outputs": [
        {
          "output_type": "stream",
          "name": "stdout",
          "text": [
            "input words cans, \n",
            " delete_letter = ['ans', 'cns', 'cas', 'can']\n"
          ]
        }
      ]
    },
    {
      "cell_type": "markdown",
      "metadata": {
        "id": "SV-sKt6al1Sz"
      },
      "source": [
        "Switch Letter"
      ]
    },
    {
      "cell_type": "code",
      "metadata": {
        "id": "gSQHZ2jlTNf8"
      },
      "source": [
        "def switch_letter(word, verbose=False):\n",
        "\n",
        "  switch1 = []\n",
        "  word1 = list(word)\n",
        "\n",
        "  for i in range(len(word1)-1):\n",
        "    a1 = list(word)\n",
        "\n",
        "    a1[i], a1[i+1] = a1[i+1], a1[i]\n",
        "\n",
        "    b = ''.join(a1)\n",
        "\n",
        "    switch1.append(b)\n",
        "\n",
        "  if word in switch1:\n",
        "    switch1.remove(word)\n",
        "  \n",
        "  if verbose: print(f\"Input word = {word}, \\nswitch_letter = {switch1}\")\n",
        "\n",
        "  return switch1"
      ],
      "execution_count": 25,
      "outputs": []
    },
    {
      "cell_type": "code",
      "metadata": {
        "colab": {
          "base_uri": "https://localhost:8080/"
        },
        "id": "CF-5Ros_UBKk",
        "outputId": "036c8aa8-12f4-49d4-b1fb-715daf18d069"
      },
      "source": [
        "switch_word1 = switch_letter(word=\"zoo\", verbose=True)"
      ],
      "execution_count": 26,
      "outputs": [
        {
          "output_type": "stream",
          "name": "stdout",
          "text": [
            "Input word = zoo, \n",
            "switch_letter = ['ozo']\n"
          ]
        }
      ]
    },
    {
      "cell_type": "markdown",
      "metadata": {
        "id": "iTHJ-Hm1l3sc"
      },
      "source": [
        "# Replace Letter"
      ]
    },
    {
      "cell_type": "code",
      "metadata": {
        "id": "sa43zYZPUHyE"
      },
      "source": [
        "def replace_letter(word, verbose = False):\n",
        "  replace1 = []\n",
        "  replace_set = []\n",
        "\n",
        "  z = string.ascii_lowercase\n",
        "  for i in range(len(word)):\n",
        "    temp = [word[0:i] + j + word[i+1:len(word)] for j in z]\n",
        "    temp.remove(word)\n",
        "    replace_set.extend(temp)\n",
        "  \n",
        "  replace1 = sorted(list(replace_set))\n",
        "\n",
        "  if verbose: print(f\"Input words = {word}  \\n replace_letter {replace1}\")\n",
        "\n",
        "  return replace1"
      ],
      "execution_count": 30,
      "outputs": []
    },
    {
      "cell_type": "code",
      "metadata": {
        "colab": {
          "base_uri": "https://localhost:8080/"
        },
        "id": "WiPXImPPVSoF",
        "outputId": "35809b82-1b7a-41da-d6fb-4e742e8c8346"
      },
      "source": [
        "replace_words = replace_letter(word = 'can', verbose=True)"
      ],
      "execution_count": 31,
      "outputs": [
        {
          "output_type": "stream",
          "name": "stdout",
          "text": [
            "Input words = can  \n",
            " replace_letter ['aan', 'ban', 'caa', 'cab', 'cac', 'cad', 'cae', 'caf', 'cag', 'cah', 'cai', 'caj', 'cak', 'cal', 'cam', 'cao', 'cap', 'caq', 'car', 'cas', 'cat', 'cau', 'cav', 'caw', 'cax', 'cay', 'caz', 'cbn', 'ccn', 'cdn', 'cen', 'cfn', 'cgn', 'chn', 'cin', 'cjn', 'ckn', 'cln', 'cmn', 'cnn', 'con', 'cpn', 'cqn', 'crn', 'csn', 'ctn', 'cun', 'cvn', 'cwn', 'cxn', 'cyn', 'czn', 'dan', 'ean', 'fan', 'gan', 'han', 'ian', 'jan', 'kan', 'lan', 'man', 'nan', 'oan', 'pan', 'qan', 'ran', 'san', 'tan', 'uan', 'van', 'wan', 'xan', 'yan', 'zan']\n"
          ]
        }
      ]
    },
    {
      "cell_type": "markdown",
      "metadata": {
        "id": "EBXBxZCCl7EH"
      },
      "source": [
        "Insert Letter"
      ]
    },
    {
      "cell_type": "code",
      "metadata": {
        "id": "OR-dTF4tVZfs"
      },
      "source": [
        "def insert_letter(word, verbose=False):\n",
        "\n",
        "  insert1 = []\n",
        "\n",
        "  letters = string.ascii_lowercase #stores all Lowercase alphabets in Letters\n",
        "\n",
        "  for i in range (len (word)+1):\n",
        "\n",
        "    #using list comprehension to arrange letters in a word \n",
        "    temp = [word[0:1]+z+ word [i: len (word)] for z in letters ]\n",
        "    insert1.extend(temp)\n",
        "\n",
        "  if verbose: print (f\"Input word {word} \\ninsert_1 {insert1}\")\n",
        "\n",
        "  return insert1"
      ],
      "execution_count": 36,
      "outputs": []
    },
    {
      "cell_type": "code",
      "metadata": {
        "colab": {
          "base_uri": "https://localhost:8080/"
        },
        "id": "jRATsIkTV6bs",
        "outputId": "4835ee21-0f4d-4062-be80-a4bdb13ae152"
      },
      "source": [
        "insert_word = insert_letter(word='at', verbose=True)\n",
        "print(f\"Number of strings output by insert_letter('at') is {len(insert_word)}\")"
      ],
      "execution_count": 37,
      "outputs": [
        {
          "output_type": "stream",
          "name": "stdout",
          "text": [
            "Input word at \n",
            "insert_1 ['aaat', 'abat', 'acat', 'adat', 'aeat', 'afat', 'agat', 'ahat', 'aiat', 'ajat', 'akat', 'alat', 'amat', 'anat', 'aoat', 'apat', 'aqat', 'arat', 'asat', 'atat', 'auat', 'avat', 'awat', 'axat', 'ayat', 'azat', 'aat', 'abt', 'act', 'adt', 'aet', 'aft', 'agt', 'aht', 'ait', 'ajt', 'akt', 'alt', 'amt', 'ant', 'aot', 'apt', 'aqt', 'art', 'ast', 'att', 'aut', 'avt', 'awt', 'axt', 'ayt', 'azt', 'aa', 'ab', 'ac', 'ad', 'ae', 'af', 'ag', 'ah', 'ai', 'aj', 'ak', 'al', 'am', 'an', 'ao', 'ap', 'aq', 'ar', 'as', 'at', 'au', 'av', 'aw', 'ax', 'ay', 'az']\n",
            "Number of strings output by insert_letter('at') is 78\n"
          ]
        }
      ]
    },
    {
      "cell_type": "markdown",
      "metadata": {
        "id": "8Pnlpu7ol-Qo"
      },
      "source": [
        "Combining the string edits"
      ]
    },
    {
      "cell_type": "markdown",
      "metadata": {
        "id": "gan5knQml_LO"
      },
      "source": [
        "edit_one_letter"
      ]
    },
    {
      "cell_type": "code",
      "metadata": {
        "id": "OVmP9IREWRTU"
      },
      "source": [
        "def edit_one_letter(word):\n",
        "  edit_one_set = set(delete_letter(word) + insert_letter(word) + replace_letter(word) + switch_letter(word))\n",
        "\n",
        "  return edit_one_set"
      ],
      "execution_count": 38,
      "outputs": []
    },
    {
      "cell_type": "code",
      "metadata": {
        "colab": {
          "base_uri": "https://localhost:8080/"
        },
        "id": "G_mJ7p2YW-bM",
        "outputId": "23ca9995-f5aa-4540-8681-89a4c05c1855"
      },
      "source": [
        "wd = 'at'\n",
        "\n",
        "wd_teds = edit_one_letter(wd)\n",
        "\n",
        "temp_edit_one1 = sorted(list(wd_teds))\n",
        "print(temp_edit_one1)"
      ],
      "execution_count": 41,
      "outputs": [
        {
          "output_type": "stream",
          "name": "stdout",
          "text": [
            "['a', 'aa', 'aaat', 'aat', 'ab', 'abat', 'abt', 'ac', 'acat', 'act', 'ad', 'adat', 'adt', 'ae', 'aeat', 'aet', 'af', 'afat', 'aft', 'ag', 'agat', 'agt', 'ah', 'ahat', 'aht', 'ai', 'aiat', 'ait', 'aj', 'ajat', 'ajt', 'ak', 'akat', 'akt', 'al', 'alat', 'alt', 'am', 'amat', 'amt', 'an', 'anat', 'ant', 'ao', 'aoat', 'aot', 'ap', 'apat', 'apt', 'aq', 'aqat', 'aqt', 'ar', 'arat', 'art', 'as', 'asat', 'ast', 'at', 'atat', 'att', 'au', 'auat', 'aut', 'av', 'avat', 'avt', 'aw', 'awat', 'awt', 'ax', 'axat', 'axt', 'ay', 'ayat', 'ayt', 'az', 'azat', 'azt', 'bt', 'ct', 'dt', 'et', 'ft', 'gt', 'ht', 'it', 'jt', 'kt', 'lt', 'mt', 'nt', 'ot', 'pt', 'qt', 'rt', 'st', 't', 'ta', 'tt', 'ut', 'vt', 'wt', 'xt', 'yt', 'zt']\n"
          ]
        }
      ]
    },
    {
      "cell_type": "markdown",
      "metadata": {
        "id": "xCvMkY_EmB7-"
      },
      "source": [
        "edit_two_letters"
      ]
    },
    {
      "cell_type": "code",
      "metadata": {
        "id": "lZ-51t5WXO9M"
      },
      "source": [
        "def edit_two_letters(word, allow_switches = True):\n",
        "\n",
        "  edit_two_set= set()\n",
        "\n",
        "  insert_letter1 = []\n",
        "  replace_letter1 = []\n",
        "  switch_letter1 = []\n",
        "  delete_letter1 = []\n",
        "\n",
        "  l = list(edit_one_letter (word))\n",
        "  temp = []\n",
        "\n",
        "  for i in l:\n",
        "    temp = delete_letter(i)\n",
        "    delete_letter1.extend(temp)\n",
        "\n",
        "  for i in l:\n",
        "    temp = replace_letter(i)\n",
        "    replace_letter1.extend(temp)\n",
        "\n",
        "  for i in l:\n",
        "    temp = switch_letter(i)\n",
        "    switch_letter1.extend(temp)\n",
        "\n",
        "  for i in l:\n",
        "    temp = insert_letter(i)\n",
        "    insert_letter1.extend(temp)\n",
        "\n",
        "  edit_two_set = set(delete_letter1 + insert_letter1 + replace_letter1 + switch_letter1)\n",
        "\n",
        "  return edit_two_set"
      ],
      "execution_count": 54,
      "outputs": []
    },
    {
      "cell_type": "code",
      "metadata": {
        "colab": {
          "base_uri": "https://localhost:8080/"
        },
        "id": "NWqGm4FDX5WU",
        "outputId": "64e75d66-dc4d-4609-9297-3d0f18109d04"
      },
      "source": [
        "temp_edit_two_set = edit_two_letters(\"a\")\n",
        "temp_edit_two1 = sorted(list(temp_edit_two_set))\n",
        "print(f\"Number of strings with edit distance of two: {len(temp_edit_two1)}\")\n",
        "print(f\"First 10 strings {temp_edit_two1[:10]}\") \n",
        "print(f\"Last 10 strings {temp_edit_two1[-10:]}\")"
      ],
      "execution_count": 55,
      "outputs": [
        {
          "output_type": "stream",
          "name": "stdout",
          "text": [
            "Number of strings with edit distance of two: 4681\n",
            "First 10 strings ['', 'a', 'aa', 'aaa', 'aaaa', 'aaaaa', 'aaab', 'aaaba', 'aaac', 'aaaca']\n",
            "Last 10 strings ['zwz', 'zx', 'zxa', 'zxz', 'zy', 'zya', 'zyz', 'zz', 'zza', 'zzz']\n"
          ]
        }
      ]
    },
    {
      "cell_type": "markdown",
      "metadata": {
        "id": "COfq3aeDmGai"
      },
      "source": [
        "Spelling Suggestions"
      ]
    },
    {
      "cell_type": "code",
      "metadata": {
        "id": "uAxcRAyOYRM1"
      },
      "source": [
        "def get_corrections(word, probs, vocab, n=2, verbose=True):\n",
        "\n",
        "  suggestions = []\n",
        "\n",
        "  n_best = []\n",
        "\n",
        "  # step 1\n",
        "\n",
        "  if word in vocab:\n",
        "    suggestions = word\n",
        "\n",
        "  elif(len(edit_one_letter(word))!=0):\n",
        "    suggestions = edit_one_letter(word).intersection(set(vocab))\n",
        "\n",
        "  elif(len(edit_two_letters(word))!=0):\n",
        "    suggestions = edit_two_letters(word).intersection(set(vocab))\n",
        "\n",
        "  else:\n",
        "    suggestions = word\n",
        "\n",
        "  # step 2\n",
        "  best_words = {}\n",
        "  for i in suggestions:\n",
        "   if i in probs:\n",
        "     best_words[i] = probs[i]\n",
        "\n",
        "  best_words = [(k, v) for k, v in sorted(best_words.items(), key=lambda item: item[1],reverse=True)]\n",
        "\n",
        "  # step 3\n",
        "\n",
        "  n_best = best_words[:n]\n",
        "\n",
        "  if verbose: print(\"entered word =\", word, \"\\nsuggestions = \", suggestions)\n",
        "\n",
        "  return n_best\n",
        "\n"
      ],
      "execution_count": 96,
      "outputs": []
    },
    {
      "cell_type": "markdown",
      "metadata": {
        "id": "l-Y3EuljmZim"
      },
      "source": [
        "get_correction function on few words and our model gives relevant words related to it.\n"
      ]
    },
    {
      "cell_type": "code",
      "metadata": {
        "colab": {
          "base_uri": "https://localhost:8080/"
        },
        "id": "_UTnIYncZsNF",
        "outputId": "a2f4f20b-cf61-4cca-9924-ba9a2081b21c"
      },
      "source": [
        "my_word = 'dys'\n",
        "tmp_corrections = get_corrections(my_word, probs, vocab, 2, verbose = True)\n",
        "\n",
        "for i, word_prob in enumerate(tmp_corrections):\n",
        "  print(f\"word{i}: {word_prob[0]}, probability {word_prob[1]: 6f}\")"
      ],
      "execution_count": 98,
      "outputs": [
        {
          "output_type": "stream",
          "name": "stdout",
          "text": [
            "entered word = dys \n",
            "suggestions =  {'days', 'dr', 'de', 'da', 'dis', 'do'}\n",
            "word0: do, probability  0.001421\n",
            "word1: days, probability  0.000392\n"
          ]
        }
      ]
    },
    {
      "cell_type": "code",
      "metadata": {
        "colab": {
          "base_uri": "https://localhost:8080/"
        },
        "id": "szc1pOIhbvH2",
        "outputId": "06cc8689-1711-4ec4-9f39-1651334d48c3"
      },
      "source": [
        "my_word = 'yef'\n",
        "tmp_corrections = get_corrections(my_word, probs, vocab, 2, verbose = True)\n",
        "\n",
        "for i, word_prob in enumerate(tmp_corrections):\n",
        "  print(f\"word{i}: {word_prob[0]}, probability {word_prob[1]: 6f}\")"
      ],
      "execution_count": 99,
      "outputs": [
        {
          "output_type": "stream",
          "name": "stdout",
          "text": [
            "entered word = yef \n",
            "suggestions =  {'yes', 'ye', 'yet', 'yea'}\n",
            "word0: ye, probability  0.002247\n",
            "word1: yet, probability  0.001592\n"
          ]
        }
      ]
    },
    {
      "cell_type": "code",
      "metadata": {
        "colab": {
          "base_uri": "https://localhost:8080/"
        },
        "id": "RdqUu6LQfQKm",
        "outputId": "da82cf2f-1687-46d6-9e9e-739ff0fed295"
      },
      "source": [
        "my_word = 'wifs'\n",
        "tmp_corrections = get_corrections(my_word, probs, vocab, 2, verbose = True)\n",
        "\n",
        "for i, word_prob in enumerate(tmp_corrections):\n",
        "  print(f\"word{i}: {word_prob[0]}, probability {word_prob[1]: 6f}\")"
      ],
      "execution_count": 100,
      "outputs": [
        {
          "output_type": "stream",
          "name": "stdout",
          "text": [
            "entered word = wifs \n",
            "suggestions =  {'we', 'ifs', 'wa', 'wife', 'wits', 'was'}\n",
            "word0: was, probability  0.007268\n",
            "word1: we, probability  0.002045\n"
          ]
        }
      ]
    },
    {
      "cell_type": "code",
      "metadata": {
        "id": "kpGvL8GXfTlN"
      },
      "source": [
        ""
      ],
      "execution_count": null,
      "outputs": []
    }
  ]
}