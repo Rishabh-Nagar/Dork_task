{
  "nbformat": 4,
  "nbformat_minor": 0,
  "metadata": {
    "colab": {
      "name": "auto_correct.ipynb",
      "provenance": []
    },
    "kernelspec": {
      "name": "python3",
      "display_name": "Python 3"
    },
    "language_info": {
      "name": "python"
    }
  },
  "cells": [
    {
      "cell_type": "markdown",
      "metadata": {
        "id": "9JSL1MqMkGlX"
      },
      "source": [
        "## AUTO CORRECT MODEL USING TEXT DISTANCE"
      ]
    },
    {
      "cell_type": "code",
      "metadata": {
        "colab": {
          "base_uri": "https://localhost:8080/"
        },
        "id": "P-mfaL__Hw6r",
        "outputId": "bfd36fdb-a770-4939-c92b-64d3d2d3d121"
      },
      "source": [
        "!pip install textdistance"
      ],
      "execution_count": 24,
      "outputs": [
        {
          "output_type": "stream",
          "name": "stdout",
          "text": [
            "Requirement already satisfied: textdistance in /usr/local/lib/python3.7/dist-packages (4.2.2)\n"
          ]
        }
      ]
    },
    {
      "cell_type": "markdown",
      "metadata": {
        "id": "gtJZFcKtkLDl"
      },
      "source": [
        "##IMPORTING LIBRARIES"
      ]
    },
    {
      "cell_type": "code",
      "metadata": {
        "id": "IaEOP18MNAXm"
      },
      "source": [
        "import pandas as pd\n",
        "import numpy as np\n",
        "import textdistance\n",
        "import re\n",
        "from collections import Counter"
      ],
      "execution_count": 25,
      "outputs": []
    },
    {
      "cell_type": "markdown",
      "metadata": {
        "id": "zpr3-1QpkcsW"
      },
      "source": [
        "Import the Text file and collecting all the uniques words present in it"
      ]
    },
    {
      "cell_type": "code",
      "metadata": {
        "colab": {
          "base_uri": "https://localhost:8080/"
        },
        "id": "HC25pGrwkRK2",
        "outputId": "e33495d0-ca74-4dde-83d0-55ec9da331a1"
      },
      "source": [
        "words = []\n",
        "with open('/content/auto.txt', 'r') as f:\n",
        "    file_name_data = f.read()\n",
        "    file_name_data=file_name_data.lower()\n",
        "    words = re.findall('[a-z]+',file_name_data)\n",
        "# This is our vocabulary\n",
        "V = set(words)\n",
        "print(\"Top ten words in the text are:\", words[0:10])\n",
        "print(\"Total Unique words are \", len(V))"
      ],
      "execution_count": 26,
      "outputs": [
        {
          "output_type": "stream",
          "name": "stdout",
          "text": [
            "Top ten words in the text are: ['the', 'project', 'gutenberg', 'ebook', 'of', 'moby', 'dick', 'or', 'the', 'whale']\n",
            "Total Unique words are  17145\n"
          ]
        }
      ]
    },
    {
      "cell_type": "markdown",
      "metadata": {
        "id": "g6KmVzwOkrnw"
      },
      "source": [
        "Calculating the Most frequent words"
      ]
    },
    {
      "cell_type": "code",
      "metadata": {
        "colab": {
          "base_uri": "https://localhost:8080/"
        },
        "id": "7AJAcJNZNCMU",
        "outputId": "f0c5ea02-fee1-4cd0-d352-bed51cea16b2"
      },
      "source": [
        "word_freq = {}  \n",
        "word_freq = Counter(words)\n",
        "print(word_freq.most_common()[0:10])"
      ],
      "execution_count": 27,
      "outputs": [
        {
          "output_type": "stream",
          "name": "stdout",
          "text": [
            "[('the', 17399), ('and', 7726), ('of', 7669), ('a', 5491), ('to', 5490), ('in', 4848), ('that', 3604), ('his', 2995), ('it', 2953), ('i', 2469)]\n"
          ]
        }
      ]
    },
    {
      "cell_type": "markdown",
      "metadata": {
        "id": "Z2g53G8Gk4vm"
      },
      "source": [
        "Calculating the Probability"
      ]
    },
    {
      "cell_type": "code",
      "metadata": {
        "id": "-HHpYCxMNvst"
      },
      "source": [
        "probs = {}     \n",
        "Total = sum(word_freq.values())    \n",
        "for k in word_freq.keys():\n",
        "    probs[k] = word_freq[k]/Total"
      ],
      "execution_count": 28,
      "outputs": []
    },
    {
      "cell_type": "markdown",
      "metadata": {
        "id": "lSjjL9Bak9yW"
      },
      "source": [
        "Defining an Autocorrect Function"
      ]
    },
    {
      "cell_type": "code",
      "metadata": {
        "id": "qyvjAu8yO3JF"
      },
      "source": [
        "def my_autocorrect(input_word):\n",
        "    input_word = input_word.lower()\n",
        "    if input_word in V:\n",
        "        return('Your word seems to be correct')\n",
        "    else:\n",
        "        sim = [1-(textdistance.Jaccard(qval=2).distance(v,input_word)) for v in word_freq.keys()]\n",
        "        df = pd.DataFrame.from_dict(probs, orient='index').reset_index()\n",
        "        df = df.rename(columns={'index':'Word', 0:'Prob'})\n",
        "        df['Similarity'] = sim\n",
        "        output = df.sort_values(['Similarity', 'Prob'], ascending=False).head()\n",
        "        return(output)"
      ],
      "execution_count": 29,
      "outputs": []
    },
    {
      "cell_type": "markdown",
      "metadata": {
        "id": "iMAXgXS6lDQN"
      },
      "source": [
        "Printing a Test case"
      ]
    },
    {
      "cell_type": "code",
      "metadata": {
        "colab": {
          "base_uri": "https://localhost:8080/",
          "height": 206
        },
        "id": "aBhvzkZkO4nk",
        "outputId": "387b0c26-d4e6-4143-85e7-af3358552839"
      },
      "source": [
        "my_autocorrect('neverteless')"
      ],
      "execution_count": 30,
      "outputs": [
        {
          "output_type": "execute_result",
          "data": {
            "text/html": [
              "<div>\n",
              "<style scoped>\n",
              "    .dataframe tbody tr th:only-of-type {\n",
              "        vertical-align: middle;\n",
              "    }\n",
              "\n",
              "    .dataframe tbody tr th {\n",
              "        vertical-align: top;\n",
              "    }\n",
              "\n",
              "    .dataframe thead th {\n",
              "        text-align: right;\n",
              "    }\n",
              "</style>\n",
              "<table border=\"1\" class=\"dataframe\">\n",
              "  <thead>\n",
              "    <tr style=\"text-align: right;\">\n",
              "      <th></th>\n",
              "      <th>Word</th>\n",
              "      <th>Prob</th>\n",
              "      <th>Similarity</th>\n",
              "    </tr>\n",
              "  </thead>\n",
              "  <tbody>\n",
              "    <tr>\n",
              "      <th>2358</th>\n",
              "      <td>nevertheless</td>\n",
              "      <td>0.000202</td>\n",
              "      <td>0.750000</td>\n",
              "    </tr>\n",
              "    <tr>\n",
              "      <th>13236</th>\n",
              "      <td>boneless</td>\n",
              "      <td>0.000011</td>\n",
              "      <td>0.416667</td>\n",
              "    </tr>\n",
              "    <tr>\n",
              "      <th>12266</th>\n",
              "      <td>elevates</td>\n",
              "      <td>0.000004</td>\n",
              "      <td>0.416667</td>\n",
              "    </tr>\n",
              "    <tr>\n",
              "      <th>943</th>\n",
              "      <td>never</td>\n",
              "      <td>0.000905</td>\n",
              "      <td>0.400000</td>\n",
              "    </tr>\n",
              "    <tr>\n",
              "      <th>6861</th>\n",
              "      <td>level</td>\n",
              "      <td>0.000141</td>\n",
              "      <td>0.400000</td>\n",
              "    </tr>\n",
              "  </tbody>\n",
              "</table>\n",
              "</div>"
            ],
            "text/plain": [
              "               Word      Prob  Similarity\n",
              "2358   nevertheless  0.000202    0.750000\n",
              "13236      boneless  0.000011    0.416667\n",
              "12266      elevates  0.000004    0.416667\n",
              "943           never  0.000905    0.400000\n",
              "6861          level  0.000141    0.400000"
            ]
          },
          "metadata": {},
          "execution_count": 30
        }
      ]
    },
    {
      "cell_type": "code",
      "metadata": {
        "id": "qlv1HBrOO9Tc"
      },
      "source": [
        ""
      ],
      "execution_count": null,
      "outputs": []
    }
  ]
}